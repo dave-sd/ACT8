{
  "nbformat": 4,
  "nbformat_minor": 0,
  "metadata": {
    "colab": {
      "name": "Copia de Errores.ipynb",
      "provenance": [],
      "include_colab_link": true
    },
    "kernelspec": {
      "name": "python3",
      "display_name": "Python 3"
    },
    "language_info": {
      "name": "python"
    }
  },
  "cells": [
    {
      "cell_type": "markdown",
      "metadata": {
        "id": "view-in-github",
        "colab_type": "text"
      },
      "source": [
        "<a href=\"https://colab.research.google.com/github/dave-sd/ACT8/blob/main/Copia_de_Errores.ipynb\" target=\"_parent\"><img src=\"https://colab.research.google.com/assets/colab-badge.svg\" alt=\"Open In Colab\"/></a>"
      ]
    },
    {
      "cell_type": "markdown",
      "metadata": {
        "id": "NywlHqb0apco"
      },
      "source": [
        "# 1 Error Semántico\n",
        "https://runestone.academy/runestone/books/published/thinkcspy/GeneralIntro/SemanticErrors.html#:~:text=A%20semantic%20error%20is%20an%20error%20in%20logic.,correctly.%20This%20would%20be%20considered%20a%20run-time%20error."
      ]
    },
    {
      "cell_type": "code",
      "metadata": {
        "colab": {
          "base_uri": "https://localhost:8080/"
        },
        "id": "Db3NCV_galro",
        "outputId": "6c2d4397-a21c-40d1-b051-86668a37134c"
      },
      "source": [
        "total=98\n",
        "porciento=total/100\n",
        "print(porciento)"
      ],
      "execution_count": 6,
      "outputs": [
        {
          "output_type": "stream",
          "name": "stdout",
          "text": [
            "0.98\n"
          ]
        }
      ]
    },
    {
      "cell_type": "markdown",
      "source": [
        "# 2 Error sintáctico \n",
        "https://runestone.academy/runestone/books/published/thinkcspy/GeneralIntro/Syntaxerrors.html"
      ],
      "metadata": {
        "id": "cTY9lxcsymtJ"
      }
    },
    {
      "cell_type": "code",
      "metadata": {
        "id": "gn9eR4vab0Dy"
      },
      "source": [
        "b=1\n",
        "c=3\n",
        "a=(b+c)/2"
      ],
      "execution_count": 5,
      "outputs": []
    },
    {
      "cell_type": "markdown",
      "metadata": {
        "id": "MAHs5_ficQQQ"
      },
      "source": [
        "# 1 Error en tiempo de ejecución \n",
        "https://runestone.academy/runestone/books/published/thinkcspy/GeneralIntro/RuntimeErrors.html"
      ]
    },
    {
      "cell_type": "code",
      "metadata": {
        "id": "b4kxMKK5cPbU",
        "colab": {
          "base_uri": "https://localhost:8080/"
        },
        "outputId": "96428ad3-d7ef-4d98-fff1-32c6218ababc"
      },
      "source": [
        "#TODO NUMERO DIVIDIDO PARA 0 NOS DARÁ ERROR,  PODEMOS CAMBIAR EL 0 POR OTRO NUMERO O AGREGARLE UN TRY-CATCH\n",
        "c=1\n",
        "  \n",
        "b=1/c\n",
        "\n",
        "print(b)"
      ],
      "execution_count": 7,
      "outputs": [
        {
          "output_type": "stream",
          "name": "stdout",
          "text": [
            "1.0\n"
          ]
        }
      ]
    }
  ]
}